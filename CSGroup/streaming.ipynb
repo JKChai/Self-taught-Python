{
 "cells": [
  {
   "cell_type": "code",
   "execution_count": 1,
   "metadata": {},
   "outputs": [],
   "source": [
    "import findspark\n",
    "\n",
    "findspark.init()"
   ]
  },
  {
   "cell_type": "code",
   "execution_count": 2,
   "metadata": {},
   "outputs": [],
   "source": [
    "import time\n",
    "\n",
    "from pyspark import SparkContext\n",
    "from pyspark.streaming import StreamingContext\n",
    "from pyspark.sql import SparkSession\n",
    "\n",
    "sc = SparkContext(\"local[2]\", appName='Streaming-Test-1')\n",
    "\n",
    "## 10 seconds for dividing into batches\n",
    "ssc = StreamingContext(sc, 10)\n",
    "sqlcontext =  SparkSession(sc)\n",
    "\n",
    "host = 'localhost'\n",
    "port = 3090 ## same port as listener\n",
    "\n",
    "## Create an input from TCP source hostname:port. Data is received \n",
    "# ## using a TCP socket and receive byte is interpreted as UTF8 encoded \\n delimited lines.\n",
    "socket_stream = ssc.socketTextStream(host, port)\n",
    "lines = socket_stream.window(20) ## perform transformation for 20 seconds window of each 10 seconds interval\n",
    "\n",
    "## function for creating tuples\n",
    "def list_to_tup(x):\n",
    "    item = x.split('::::')\n",
    "    return (item[0], item[1], item[2])\n",
    "\n",
    "## registers to a table\n",
    "# lines.map(lambda x: list_to_tup(x)).foreachRDD(lambda rdd: rdd.toDF().registerTempTable('temporary'))\n",
    "lines.map(list_to_tup).map(lambda x: (x[0], int(x[2]))).reduceByKey(lambda a, b: a + b).foreachRDD(lambda rdd: rdd.toDF().createOrReplaceTempView('temporary'))"
   ]
  },
  {
   "cell_type": "markdown",
   "metadata": {},
   "source": [
    "Run `listener.py`"
   ]
  },
  {
   "cell_type": "code",
   "execution_count": 3,
   "metadata": {},
   "outputs": [],
   "source": [
    "ssc.start()\n",
    "\n",
    "## wait for at least 1 min for temporary table to be created\n",
    "time.sleep(60) "
   ]
  },
  {
   "cell_type": "code",
   "execution_count": 4,
   "metadata": {},
   "outputs": [
    {
     "data": {
      "image/png": "[encoded data removed]",
      "text/plain": [
       "<Figure size 864x576 with 1 Axes>"
      ]
     },
     "metadata": {
      "needs_background": "light"
     },
     "output_type": "display_data"
    }
   ],
   "source": [
    "import matplotlib.pyplot as plt\n",
    "\n",
    "from IPython import display\n",
    "## output to console\n",
    "%matplotlib inline\n",
    "\n",
    "## convert data values to char\n",
    "def politicalBias(x):\n",
    "    if x <= -2:\n",
    "        return 'LEFT EXTREME'\n",
    "    elif x == -1:\n",
    "        return 'LEFT LEAN'\n",
    "    elif x >= 2:\n",
    "        return \"RIGHT EXTREME\"\n",
    "    elif x == 1:\n",
    "        return 'RIGHT LEAN'\n",
    "    else:\n",
    "        return 'MODERATE'\n",
    "\n",
    "counter = 0 ## track loop\n",
    "while True:\n",
    "    try:\n",
    "        ## PROCESS DATA FRAME\n",
    "        temp = sqlcontext.sql('SELECT * FROM temporary')\n",
    "        df = temp.toPandas()\n",
    "        df['LEANING'] = df['_2'].apply(lambda x: politicalBias(x))\n",
    "        series = df['LEANING'].value_counts()\n",
    "        series = series.reindex(['LEFT EXTREME', 'LEFT LEAN', 'MODERATE', 'RIGHT LEAN', 'RIGHT EXTREME'])\n",
    "\n",
    "        display.clear_output(wait=True) ## clear output when update\n",
    "        ## process figures\n",
    "        _ = plt.figure(figsize=(12, 8))\n",
    "        ax = series.plot.barh(color = ['tab:blue', 'tab:cyan', 'tab:gray', 'tab:pink' ,'tab:red'])\n",
    "        _ = ax.bar_label(ax.containers[0])\n",
    "        _ = plt.xticks([]) \n",
    "        _ = plt.title(f'Political Leaning count of Tweets mentioning Media in Real-Time -- {counter}', size=20)\n",
    "        _ = plt.savefig(f'.\\\\temporaryFig\\\\NUM_{counter}_PLOT.png')\n",
    "        _ = plt.show()\n",
    "\n",
    "        counter += 1 ## increment\n",
    "        continue\n",
    "\n",
    "    except Exception as err:\n",
    "        print(err)\n",
    "        break"
   ]
  },
  {
   "cell_type": "code",
   "execution_count": null,
   "metadata": {},
   "outputs": [],
   "source": [
    "ssc.stop()"
   ]
  }
 ],
 "metadata": {
  "interpreter": {
   "hash": "b6fcadfc93810d74727861fd8603711651351812eaab4d1668ff83a922a60cb6"
  },
  "kernelspec": {
   "display_name": "Python 3.10.4 64-bit",
   "language": "python",
   "name": "python3"
  },
  "language_info": {
   "codemirror_mode": {
    "name": "ipython",
    "version": 3
   },
   "file_extension": ".py",
   "mimetype": "text/x-python",
   "name": "python",
   "nbconvert_exporter": "python",
   "pygments_lexer": "ipython3",
   "version": "3.10.4"
  },
  "orig_nbformat": 4
 },
 "nbformat": 4,
 "nbformat_minor": 2
}
