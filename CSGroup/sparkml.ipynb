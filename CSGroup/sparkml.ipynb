{
 "cells": [
  {
   "cell_type": "code",
   "execution_count": null,
   "metadata": {},
   "outputs": [],
   "source": [
    "import findspark\n",
    "\n",
    "findspark.init()"
   ]
  },
  {
   "cell_type": "code",
   "execution_count": null,
   "metadata": {},
   "outputs": [],
   "source": [
    "import time\n",
    "\n",
    "from pyspark import SparkContext\n",
    "from pyspark.streaming import StreamingContext\n",
    "from pyspark.sql import SparkSession\n",
    "\n",
    "sc = SparkContext(\"local[2]\", appName='Streaming-Test-2')\n",
    "\n",
    "## 10 seconds for dividing into batches\n",
    "ssc = StreamingContext(sc, 10)\n",
    "sqlcontext =  SparkSession(sc)\n",
    "\n",
    "host = 'localhost'\n",
    "port = 3090\n",
    "\n",
    "## Create an input from TCP source hostname:port. Data is received \n",
    "# ## using a TCP socket and receive byte is interpreted as UTF8 encoded \\n delimited lines.\n",
    "socket_stream = ssc.socketTextStream(host, port)\n",
    "lines = socket_stream.window(20) ## perform transformation for 20 seconds window of each 10 seconds interval\n",
    "\n",
    "\n",
    "def list_to_tup(x):\n",
    "    item = x.split('::::')\n",
    "    return (item[0], item[1], item[2])\n",
    "\n",
    "## registers to a table\n",
    "# lines.map(lambda x: list_to_tup(x)).foreachRDD(lambda rdd: rdd.toDF().registerTempTable('temporary'))\n",
    "lines.map(list_to_tup).map(lambda x: (x[0], int(x[2]))).reduceByKey(lambda a, b: a + b).foreachRDD(lambda rdd: rdd.toDF().createOrReplaceTempView('temporary'))"
   ]
  },
  {
   "cell_type": "markdown",
   "metadata": {},
   "source": [
    "Start `listener.py`"
   ]
  },
  {
   "cell_type": "code",
   "execution_count": null,
   "metadata": {},
   "outputs": [],
   "source": [
    "ssc.start()\n",
    "\n",
    "## wait for at least 1 min for temporary table to be created\n",
    "time.sleep(60) "
   ]
  },
  {
   "cell_type": "code",
   "execution_count": null,
   "metadata": {},
   "outputs": [],
   "source": []
  },
  {
   "cell_type": "code",
   "execution_count": null,
   "metadata": {},
   "outputs": [],
   "source": []
  },
  {
   "cell_type": "code",
   "execution_count": null,
   "metadata": {},
   "outputs": [],
   "source": []
  },
  {
   "cell_type": "code",
   "execution_count": null,
   "metadata": {},
   "outputs": [],
   "source": []
  },
  {
   "cell_type": "code",
   "execution_count": null,
   "metadata": {},
   "outputs": [],
   "source": []
  },
  {
   "cell_type": "code",
   "execution_count": null,
   "metadata": {},
   "outputs": [],
   "source": []
  },
  {
   "cell_type": "code",
   "execution_count": null,
   "metadata": {},
   "outputs": [],
   "source": []
  },
  {
   "cell_type": "code",
   "execution_count": null,
   "metadata": {},
   "outputs": [],
   "source": []
  }
 ],
 "metadata": {
  "language_info": {
   "name": "python"
  },
  "orig_nbformat": 4
 },
 "nbformat": 4,
 "nbformat_minor": 2
}
