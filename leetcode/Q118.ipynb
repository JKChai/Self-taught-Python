{
 "cells": [
  {
   "cell_type": "markdown",
   "metadata": {},
   "source": [
    "# 118. Pascal's Triangle\n",
    "\n",
    "`EASY`\n",
    "\n",
    "Given an integer `numRows`, return the first numRows of Pascal's triangle.\n",
    "\n",
    "In Pascal's triangle, each number is the sum of the two numbers directly above it as shown:\n",
    "\n",
    "Example 1:\n",
    "```\n",
    "Input: numRows = 5\n",
    "Output: [[1],[1,1],[1,2,1],[1,3,3,1],[1,4,6,4,1]]\n",
    "```\n",
    "\n",
    "Example 2:\n",
    "```\n",
    "Input: numRows = 1\n",
    "Output: [[1]]\n",
    "```\n",
    "\n",
    "**Constraints:**\n",
    "\n",
    "* `1 <= numRows <= 30`"
   ]
  },
  {
   "cell_type": "code",
   "execution_count": 1,
   "metadata": {},
   "outputs": [],
   "source": [
    "class Solution:\n",
    "    def generate(self, num_rows: int) -> list[list[int]]:\n",
    "        triangle = []\n",
    "\n",
    "        for row_num in range(num_rows):\n",
    "            # The first and last row elements are always 1.\n",
    "            row = [None for _ in range(row_num + 1)]\n",
    "            row[0], row[-1] = 1, 1\n",
    "\n",
    "            # Each triangle element is equal to the sum of the elements\n",
    "            # above-and-to-the-left and above-and-to-the-right.\n",
    "            for j in range(1, len(row) - 1):\n",
    "                row[j] = triangle[row_num - 1][j - 1] + triangle[row_num - 1][j]\n",
    "\n",
    "            triangle.append(row)\n",
    "\n",
    "        return triangle"
   ]
  },
  {
   "cell_type": "code",
   "execution_count": 2,
   "metadata": {},
   "outputs": [
    {
     "name": "stdout",
     "output_type": "stream",
     "text": [
      "[[1], [1, 1], [1, 2, 1], [1, 3, 3, 1], [1, 4, 6, 4, 1]]\n",
      "[[1]]\n"
     ]
    }
   ],
   "source": [
    "s = Solution()\n",
    "\n",
    "print(s.generate(5))\n",
    "print(s.generate(1))"
   ]
  },
  {
   "cell_type": "code",
   "execution_count": 7,
   "metadata": {},
   "outputs": [
    {
     "name": "stdout",
     "output_type": "stream",
     "text": [
      "0\n",
      "1\n",
      "2\n",
      "1 1 3\n",
      "3\n",
      "1 2 4\n",
      "2 2 4\n",
      "4\n",
      "1 3 5\n",
      "2 3 5\n",
      "3 3 5\n"
     ]
    }
   ],
   "source": [
    "num_rows = 5\n",
    "triangle = []\n",
    "\n",
    "for row_num in range(num_rows):\n",
    "    print(row_num)\n",
    "    # The first and last row elements are always 1.\n",
    "    row = [None for _ in range(row_num + 1)]\n",
    "    row[0], row[-1] = 1, 1\n",
    "\n",
    "    # Each triangle element is equal to the sum of the elements\n",
    "    # above-and-to-the-left and above-and-to-the-right.\n",
    "    for j in range(1, len(row) - 1):\n",
    "        print(j,row_num - 1, len(row))\n",
    "        row[j] = triangle[row_num - 1][j - 1] + triangle[row_num - 1][j]\n",
    "\n",
    "    triangle.append(row)"
   ]
  },
  {
   "cell_type": "code",
   "execution_count": 16,
   "metadata": {},
   "outputs": [],
   "source": [
    "for i in range(1, 0):\n",
    "    print(i)"
   ]
  },
  {
   "cell_type": "markdown",
   "metadata": {},
   "source": [
    "# Solution\n",
    "\n",
    "## Approach 1: Dynamic Programming\n",
    "\n",
    "**Intuition**\n",
    "\n",
    "If we have the a row of Pascal's triangle, we can easily compute the next row by each pair of adjacent values.\n",
    "\n",
    "**Algorithm**\n",
    "\n",
    "Although the algorithm is very simple, the iterative approach to constructing Pascal's triangle can be classified as dynamic programming because we construct each row based on the previous row.\n",
    "\n",
    "First, we generate the overall triangle list, which will store each row as a sublist. Then, we check for the special case of $0$, as we would otherwise return $[1]$. Since $numRows$ is always greater than $0$, we can initialize triangle with $[1]$ as its first row, and proceed to fill the rows as follows:\n",
    "\n",
    "```python\n",
    "class Solution:\n",
    "    def generate(self, num_rows: int) -> List[List[int]]:\n",
    "        triangle = []\n",
    "\n",
    "        for row_num in range(num_rows):\n",
    "            # The first and last row elements are always 1.\n",
    "            row = [None for _ in range(row_num + 1)]\n",
    "            row[0], row[-1] = 1, 1\n",
    "\n",
    "            # Each triangle element is equal to the sum of the elements\n",
    "            # above-and-to-the-left and above-and-to-the-right.\n",
    "            for j in range(1, len(row) - 1):\n",
    "                row[j] = triangle[row_num - 1][j - 1] + triangle[row_num - 1][j]\n",
    "\n",
    "            triangle.append(row)\n",
    "\n",
    "        return triangle\n",
    "```\n",
    "```java\n",
    "class Solution {\n",
    "    public List<List<Integer>> generate(int numRows) {\n",
    "        List<List<Integer>> triangle = new ArrayList<List<Integer>>();\n",
    "\n",
    "        // Base case; first row is always [1].\n",
    "        triangle.add(new ArrayList<>());\n",
    "        triangle.get(0).add(1);\n",
    "\n",
    "        for (int rowNum = 1; rowNum < numRows; rowNum++) {\n",
    "            List<Integer> row = new ArrayList<>();\n",
    "            List<Integer> prevRow = triangle.get(rowNum-1);\n",
    "\n",
    "            // The first row element is always 1.\n",
    "            row.add(1);\n",
    "\n",
    "            // Each triangle element (other than the first and last of each row)\n",
    "            // is equal to the sum of the elements above-and-to-the-left and\n",
    "            // above-and-to-the-right.\n",
    "            for (int j = 1; j < rowNum; j++) {\n",
    "                row.add(prevRow.get(j-1) + prevRow.get(j));\n",
    "            }\n",
    "\n",
    "            // The last row element is always 1.\n",
    "            row.add(1);\n",
    "\n",
    "            triangle.add(row);\n",
    "        }\n",
    "\n",
    "        return triangle;\n",
    "    }\n",
    "}\n",
    "```\n",
    "\n",
    "**Complexity Analysis**\n",
    "\n",
    "* Time complexity : $O(numRows^2)$\n",
    "\n",
    "    Although updating each value of triangle happens in constant time, it is performed $O(numRows^2)$ times. To see why, consider how many overall loop iterations there are. The outer loop obviously runs $numRows$ times, but for each iteration of the outer loop, the inner loop runs rowNumrowNum times. Therefore, the overall number of triangle updates that occur is $1 + 2 + 3 + \\ldots + numRows$, which, according to Gauss' formula, is\n",
    "\n",
    "    $\\begin{aligned} \\frac{numRows(numRows+1)}{2} &= \\frac{numRows^2 + numRows}{2} \\\\ &= \\frac{numRows^2}{2} + \\frac{numRows}{2} \\\\ &= O(numRows^2) \\end{aligned}$\n",
    "\n",
    "* Space complexity : $O(numRows^2)$\n",
    "\n",
    "    Because we need to store each number that we update in triangle, the space requirement is the same as the time complexity."
   ]
  }
 ],
 "metadata": {
  "interpreter": {
   "hash": "46b813a7ed274b33fc209ca621f36503e24d559ac96357b62b25104864439a2c"
  },
  "kernelspec": {
   "display_name": "Python 3.9.7 64-bit",
   "language": "python",
   "name": "python3"
  },
  "language_info": {
   "codemirror_mode": {
    "name": "ipython",
    "version": 3
   },
   "file_extension": ".py",
   "mimetype": "text/x-python",
   "name": "python",
   "nbconvert_exporter": "python",
   "pygments_lexer": "ipython3",
   "version": "3.9.7"
  },
  "orig_nbformat": 4
 },
 "nbformat": 4,
 "nbformat_minor": 2
}
