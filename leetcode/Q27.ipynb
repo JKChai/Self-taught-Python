{
 "cells": [
  {
   "cell_type": "markdown",
   "metadata": {},
   "source": [
    "# Remove Element\n",
    "\n",
    "- Type: `Data Structure`\n",
    "- Difficulty: `EASY`\n",
    "- Status: `IN PROGRESS`\n",
    "- Attempts: `1`\n",
    "- Solution: `Yes`\n",
    "- Link: https://leetcode.com/problems/remove-element/\n",
    "- Tags: `Python` `Array` `Two Pointers`\n",
    "\n",
    "---\n",
    "\n",
    "Given an integer array `nums` and an integer `val`, remove all occurrences of `val` in `nums` <span style=\"font-weight:bold;color:#9C9B97\">in-place</span>. The relative order of the elements may be changed.\n",
    "\n",
    "Since it is impossible to change the length of the array in some languages, you must instead have the result be placed in the **first part** of the array `nums`. More formally, if there are `k` elements after removing the duplicates, then the first `k` elements of `nums` should hold the final result. It does not matter what you leave beyond the first `k` elements.\n",
    "\n",
    "Return `k` after placing the final result in the first `k` slots of `nums`.\n",
    "\n",
    "Do not **allocate** extra space for another array. You must do this by **modifying the input array** <span style=\"font-weight:bold;color:#9C9B97\">in-place</span> with O(1) extra memory.\n",
    "\n",
    "**Custom Judge:**\n",
    "\n",
    "The judge will test your solution with the following code:\n",
    "\n",
    "```java\n",
    "int[] nums = [...]; // Input array\n",
    "int val = ...; // Value to remove\n",
    "int[] expectedNums = [...]; // The expected answer with correct length.\n",
    "                            // It is sorted with no values equaling val.\n",
    "\n",
    "int k = removeElement(nums, val); // Calls your implementation\n",
    "\n",
    "assert k == expectedNums.length;\n",
    "sort(nums, 0, k); // Sort the first k elements of nums\n",
    "for (int i = 0; i < actualLength; i++) {\n",
    "    assert nums[i] == expectedNums[i];\n",
    "}\n",
    "```\n",
    "\n",
    "If all assertions pass, then your solution will be **accepted**.\n",
    "\n",
    "**Example 1**:\n",
    "\n",
    "```\n",
    "Input: nums = [3,2,2,3], val = 3\n",
    "Output: 2, nums = [2,2,_,_]\n",
    "Explanation: Your function should return k = 2, with the first two elements of nums being 2.\n",
    "It does not matter what you leave beyond the returned k (hence they are underscores).\n",
    "```\n",
    "\n",
    "**Example 2**:\n",
    "\n",
    "```\n",
    "Input: nums = [0,1,2,2,3,0,4,2], val = 2\n",
    "Output: 5, nums = [0,1,4,0,3,_,_,_]\n",
    "Explanation: Your function should return k = 5, with the first five elements of nums containing 0, 0, 1, 3, and 4.\n",
    "Note that the five elements can be returned in any order.\n",
    "It does not matter what you leave beyond the returned k (hence they are underscores).\n",
    "```\n",
    "\n",
    "**Constraints:**\n",
    "\n",
    "* $0 <= nums.length <= 100$\n",
    "* $0 <= nums[i] <= 50$ \n",
    "* $0 <= val <= 100$\n"
   ]
  },
  {
   "cell_type": "code",
   "execution_count": 10,
   "metadata": {},
   "outputs": [],
   "source": [
    "## import modules\n",
    "import cProfile"
   ]
  },
  {
   "cell_type": "code",
   "execution_count": 2,
   "metadata": {},
   "outputs": [],
   "source": [
    "class Solution:\n",
    "    def removeElement(self, nums: list[int], val: int) -> int:\n",
    "        ## use list comprehension & len method for O(1) space complexity\n",
    "        result =len([x for x in nums if x != val])\n",
    "        return result \n"
   ]
  },
  {
   "cell_type": "code",
   "execution_count": 12,
   "metadata": {},
   "outputs": [
    {
     "name": "stdout",
     "output_type": "stream",
     "text": [
      "Output: 2\n",
      "\n",
      "         7 function calls in 0.000 seconds\n",
      "\n",
      "   Ordered by: standard name\n",
      "\n",
      "   ncalls  tottime  percall  cumtime  percall filename:lineno(function)\n",
      "        1    0.000    0.000    0.000    0.000 2471718461.py:2(removeElement)\n",
      "        1    0.000    0.000    0.000    0.000 2471718461.py:4(<listcomp>)\n",
      "        1    0.000    0.000    0.000    0.000 952359188.py:2(main)\n",
      "        1    0.000    0.000    0.000    0.000 <string>:1(<module>)\n",
      "        1    0.000    0.000    0.000    0.000 {built-in method builtins.exec}\n",
      "        1    0.000    0.000    0.000    0.000 {built-in method builtins.len}\n",
      "        1    0.000    0.000    0.000    0.000 {method 'disable' of '_lsprof.Profiler' objects}\n",
      "\n",
      "\n"
     ]
    }
   ],
   "source": [
    "## solution\n",
    "def main():    \n",
    "    s = Solution()\n",
    "    return s.removeElement([3, 2, 2, 3], 3)\n",
    "\n",
    "if __name__ == \"__main__\":\n",
    "    print(f\"Output: {main()}\\n\")\n",
    "    cProfile.run(\"main()\")\n"
   ]
  },
  {
   "cell_type": "code",
   "execution_count": 15,
   "metadata": {},
   "outputs": [],
   "source": [
    "class Solution:\n",
    "    def removeElement(self, nums: list[int], val: int) -> int:\n",
    "        ## use list comprehension & len method for O(1) space complexity\n",
    "        result = [x for x in nums if x != val]\n",
    "        return result \n",
    "\n"
   ]
  },
  {
   "cell_type": "code",
   "execution_count": 16,
   "metadata": {},
   "outputs": [
    {
     "data": {
      "text/plain": [
       "[2, 2]"
      ]
     },
     "execution_count": 16,
     "metadata": {},
     "output_type": "execute_result"
    }
   ],
   "source": [
    "s = Solution()\n",
    "s.removeElement([3, 2, 2, 3], 3)"
   ]
  },
  {
   "cell_type": "code",
   "execution_count": 25,
   "metadata": {},
   "outputs": [
    {
     "name": "stdout",
     "output_type": "stream",
     "text": [
      "[2, 2, 2, 3]\n",
      "s.removeElement([3, 2, 2, 3], 3): k=2\n",
      "[0, 1, 3, 0, 4, 0, 4, 2]\n",
      "s.removeElement([0,1,2,2,3,0,4,2], 2): k=5\n"
     ]
    }
   ],
   "source": [
    "## Brute-Force Approach\n",
    "class Solution:\n",
    "    def removeElement(self, nums: list[int], val: int) -> int:\n",
    "        i = 0\n",
    "        for idx in range(len(nums)):\n",
    "            if nums[idx] != val:\n",
    "                nums[i] = nums[idx]\n",
    "                i+=1\n",
    "        print(nums)\n",
    "        return i\n",
    "\n",
    "s = Solution()\n",
    "print(f\"s.removeElement([3, 2, 2, 3], 3): k={s.removeElement([3, 2, 2, 3], 3)}\")\n",
    "print(f\"s.removeElement([0,1,2,2,3,0,4,2], 2): k={s.removeElement([0,1,2,2,3,0,4,2], 2)}\")"
   ]
  },
  {
   "cell_type": "code",
   "execution_count": 31,
   "metadata": {},
   "outputs": [
    {
     "name": "stdout",
     "output_type": "stream",
     "text": [
      "[2, 2]\n",
      "s.removeElement([3, 2, 2, 3], 3): k=2\n",
      "[0, 1, 3, 0, 4]\n",
      "s.removeElement([0,1,2,2,3,0,4,2], 2): k=5\n"
     ]
    }
   ],
   "source": [
    "## Using remove method\n",
    "class Solution:\n",
    "    def removeElement(self, nums: list[int], val: int) -> int:\n",
    "        idx = 0\n",
    "        while idx < len(nums):\n",
    "            if nums[idx] == val:\n",
    "                nums.remove(val)\n",
    "            else:\n",
    "                idx += 1\n",
    "        print(nums)\n",
    "        return len(nums)\n",
    "\n",
    "s = Solution()\n",
    "print(f\"s.removeElement([3, 2, 2, 3], 3): k={s.removeElement([3, 2, 2, 3], 3)}\")\n",
    "print(f\"s.removeElement([0,1,2,2,3,0,4,2], 2): k={s.removeElement([0,1,2,2,3,0,4,2], 2)}\")"
   ]
  },
  {
   "cell_type": "code",
   "execution_count": null,
   "metadata": {},
   "outputs": [],
   "source": []
  },
  {
   "cell_type": "code",
   "execution_count": null,
   "metadata": {},
   "outputs": [],
   "source": []
  },
  {
   "cell_type": "code",
   "execution_count": null,
   "metadata": {},
   "outputs": [],
   "source": []
  }
 ],
 "metadata": {
  "kernelspec": {
   "display_name": "Python 3.9.5 64-bit",
   "language": "python",
   "name": "python3"
  },
  "language_info": {
   "codemirror_mode": {
    "name": "ipython",
    "version": 3
   },
   "file_extension": ".py",
   "mimetype": "text/x-python",
   "name": "python",
   "nbconvert_exporter": "python",
   "pygments_lexer": "ipython3",
   "version": "3.9.5"
  },
  "orig_nbformat": 4,
  "vscode": {
   "interpreter": {
    "hash": "f9f85f796d01129d0dd105a088854619f454435301f6ffec2fea96ecbd9be4ac"
   }
  }
 },
 "nbformat": 4,
 "nbformat_minor": 2
}
