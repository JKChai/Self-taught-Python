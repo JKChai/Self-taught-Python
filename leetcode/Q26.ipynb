{
 "cells": [
  {
   "cell_type": "markdown",
   "metadata": {},
   "source": [
    "\n",
    "# Remove Duplicates from Sorted Array\n",
    "\n",
    "- Type: `Data Structure`\n",
    "- Difficulty: `EASY`\n",
    "- Status: `PENDING`\n",
    "- Attempts: `0`\n",
    "- Solution: `NO`\n",
    "- Link: https://leetcode.com/problems/remove-duplicates-from-sorted-array/\n",
    "- Tags: `Python` `Array` `Two Pointers`\n",
    "\n",
    "---\n",
    "\n",
    "# Problem\n",
    "\n",
    "Given an integer array `nums` sorted in **non-decreasing order**, remove the duplicates <span style=\"font-weight:bold;color:#9C9B97\">in-place</span> such that each unique element appears only **once**. The **relative order** of the elements should be kept the **same**.\n",
    "\n",
    "Since it is impossible to change the length of the array in some languages, you must instead have the result be placed in the **first part** of the array `nums`. More formally, if there are `k` elements after removing the duplicates, then the first `k` elements of `nums` should hold the final result. It does not matter what you leave beyond the first `k` elements.\n",
    "\n",
    "Return `k` after placing the final result in the first `k` slots of `nums`.\n",
    "\n",
    "Do **not** allocate extra space for another array. You must do this by **modifying the input array** <span style=\"font-weight:bold;color:#9C9B97\">in-place</span> with `O(1)` extra memory.\n",
    "\n",
    "**Custom Judge**:\n",
    "\n",
    "The judge will test your solution with the following code:\n",
    "\n",
    "```java\n",
    "int[] nums = [...]; // Input array\n",
    "int[] expectedNums = [...]; // The expected answer with correct length\n",
    "\n",
    "int k = removeDuplicates(nums); // Calls your implementation\n",
    "\n",
    "assert k == expectedNums.length;\n",
    "for (int i = 0; i < k; i++) {\n",
    "    assert nums[i] == expectedNums[i];\n",
    "}\n",
    "```\n",
    "\n",
    "If all assertions pass, then your solution will be **accepted**.\n",
    "\n",
    "**Example 1:**\n",
    "\n",
    "```\n",
    "Input: nums = [1,1,2]\n",
    "Output: 2, nums = [1,2,_]\n",
    "Explanation: Your function should return k = 2, with the first two elements of nums being 1 and 2 respectively.\n",
    "It does not matter what you leave beyond the returned k (hence they are underscores).\n",
    "```\n",
    "\n",
    "**Example 2:**\n",
    "\n",
    "```\n",
    "Input: nums = [0,0,1,1,1,2,2,3,3,4]\n",
    "Output: 5, nums = [0,1,2,3,4,_,_,_,_,_]\n",
    "Explanation: Your function should return k = 5, with the first five elements of nums being 0, 1, 2, 3, and 4 respectively.\n",
    "It does not matter what you leave beyond the returned k (hence they are underscores).\n",
    "```\n",
    "\n",
    "**Constraints:**\n",
    "\n",
    "* {{< katex >}} 1 <= nums.length <= 3 * 104 {{</katex>}}\n",
    "* {{< katex >}} -100 <= nums[i] <= 100 {{< /katex >}} \n",
    "* `nums` is sorted in **non-decreasing** order.\n"
   ]
  },
  {
   "cell_type": "code",
   "execution_count": 6,
   "metadata": {},
   "outputs": [
    {
     "name": "stdout",
     "output_type": "stream",
     "text": [
      "[1, 2]\n",
      "s.removeDuplicates([1,1,2]): k=2\n",
      "[0, 1, 2, 3, 4]\n",
      "s.removeDuplicates([0,0,1,1,1,2,2,3,3,4]): k=5\n"
     ]
    }
   ],
   "source": [
    "## use set to filter unique values\n",
    "class Solution:\n",
    "    def removeDuplicates(self, nums: list[int]) -> int:\n",
    "        nums = list(set(nums))\n",
    "        print(nums) ## for personal evaluation only\n",
    "        return len(nums)\n",
    "\n",
    "## personal evaluation\n",
    "s = Solution()\n",
    "print(f\"s.removeDuplicates([1,1,2]): k={s.removeDuplicates([1,1,2])}\")\n",
    "print(f\"s.removeDuplicates([0,0,1,1,1,2,2,3,3,4]): k={s.removeDuplicates([0,0,1,1,1,2,2,3,3,4])}\")"
   ]
  },
  {
   "cell_type": "code",
   "execution_count": 9,
   "metadata": {},
   "outputs": [
    {
     "name": "stdout",
     "output_type": "stream",
     "text": [
      "[1, 2, 2]\n",
      "s.removeDuplicates([1,1,2]): k=2\n",
      "[0, 1, 2, 3, 4, 2, 2, 3, 3, 4]\n",
      "s.removeDuplicates([0,0,1,1,1,2,2,3,3,4]): k=5\n"
     ]
    }
   ],
   "source": [
    "## use pointer\n",
    "class Solution:\n",
    "    def removeDuplicates(self, nums: list[int]) -> int:\n",
    "        pointer = 0 ## set pointer \n",
    "        \n",
    "        ## loop from second element and ends at last second element\n",
    "        for idx in range(1, len(nums)):\n",
    "            ## do nothing when current element is not unique\n",
    "            if nums[idx] == nums[pointer]:\n",
    "                pass\n",
    "            ## replace the next k element by unique element\n",
    "            else:\n",
    "                pointer += 1 ## pointer move up for next index\n",
    "                nums[pointer] = nums[idx] ## replace for first k\n",
    "\n",
    "        print(nums) ## for personal evaluation only\n",
    "        return pointer+1 ## make pointer a counter\n",
    "\n",
    "## personal evaluation\n",
    "s = Solution()\n",
    "print(f\"s.removeDuplicates([1,1,2]): k={s.removeDuplicates([1,1,2])}\")\n",
    "print(f\"s.removeDuplicates([0,0,1,1,1,2,2,3,3,4]): k={s.removeDuplicates([0,0,1,1,1,2,2,3,3,4])}\")"
   ]
  },
  {
   "cell_type": "code",
   "execution_count": 10,
   "metadata": {},
   "outputs": [
    {
     "name": "stdout",
     "output_type": "stream",
     "text": [
      "[1, 2, 2]\n",
      "s.removeDuplicates([1,1,2]): k=2\n",
      "[0, 1, 2, 3, 4, 2, 2, 3, 3, 4]\n",
      "s.removeDuplicates([0,0,1,1,1,2,2,3,3,4]): k=5\n"
     ]
    }
   ],
   "source": [
    "## use pointer\n",
    "class Solution:\n",
    "    def removeDuplicates(self, nums: list[int]) -> int:\n",
    "        pointer = 0 ## set pointer         \n",
    "        ## loop from second element and ends at last second element\n",
    "        for idx in range(1, len(nums)):\n",
    "            ## replace the next k element by unique element\n",
    "            if nums[idx] != nums[pointer]:\n",
    "                pointer += 1 ## pointer move up for next index\n",
    "                nums[pointer] = nums[idx] ## replace for first k\n",
    "\n",
    "        print(nums) ## for personal evaluation only\n",
    "        return pointer+1 ## make pointer a counter\n",
    "\n",
    "## personal evaluation\n",
    "s = Solution()\n",
    "print(f\"s.removeDuplicates([1,1,2]): k={s.removeDuplicates([1,1,2])}\")\n",
    "print(f\"s.removeDuplicates([0,0,1,1,1,2,2,3,3,4]): k={s.removeDuplicates([0,0,1,1,1,2,2,3,3,4])}\")\n"
   ]
  }
 ],
 "metadata": {
  "kernelspec": {
   "display_name": "Python 3.9.5 64-bit",
   "language": "python",
   "name": "python3"
  },
  "language_info": {
   "codemirror_mode": {
    "name": "ipython",
    "version": 3
   },
   "file_extension": ".py",
   "mimetype": "text/x-python",
   "name": "python",
   "nbconvert_exporter": "python",
   "pygments_lexer": "ipython3",
   "version": "3.9.5"
  },
  "orig_nbformat": 4,
  "vscode": {
   "interpreter": {
    "hash": "f9f85f796d01129d0dd105a088854619f454435301f6ffec2fea96ecbd9be4ac"
   }
  }
 },
 "nbformat": 4,
 "nbformat_minor": 2
}
