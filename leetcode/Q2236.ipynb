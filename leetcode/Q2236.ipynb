{
 "cells": [
  {
   "cell_type": "markdown",
   "metadata": {},
   "source": [
    "# Root Equals Sum of Children\n",
    "\n",
    "- Type: `Algorithm`\n",
    "- Difficulty: `EASY`\n",
    "- Status: `IN PROGRESS`\n",
    "- Attempts: `1`\n",
    "- Solution: `No`\n",
    "- Link: https://leetcode.com/problems/root-equals-sum-of-children/\n",
    "- Tags: `Python` `Tree` `Binary Tree`\n",
    "\n",
    "---\n",
    "\n",
    "You are given the `root` of a **binary tree** that consists of exactly `3` nodes: the root, its left child, and its right child. \n",
    "\n",
    "Return `true` if the value of the root is equal to the **sum** of the values of its two children, or `false` otherwise.\n",
    "\n",
    "**Example 1:**\n",
    "\n",
    "![lc2236-example1](../asset/lc2236-1.png)\n",
    "\n",
    "```\n",
    "Input: root = [10,4,6]\n",
    "Output: true\n",
    "Explanation: The values of the root, its left child, and its right child are 10, 4, and 6, respectively.\n",
    "10 is equal to 4 + 6, so we return true.\n",
    "```\n",
    "\n",
    "**Example 2:**\n",
    "\n",
    "![lc2236-example2](../asset/lc2236-2.png)\n",
    "\n",
    "```\n",
    "Input: root = [5,3,1]\n",
    "Output: false\n",
    "Explanation: The values of the root, its left child, and its right child are 5, 3, and 1, respectively.\n",
    "5 is not equal to 3 + 1, so we return false.\n",
    "```\n",
    "\n",
    "**Constraints:**\n",
    "\n",
    "* The tree consists only of the root, its left child, and its right child.\n",
    "* $-100 <= Node.val <= 100$"
   ]
  },
  {
   "cell_type": "code",
   "execution_count": 7,
   "metadata": {},
   "outputs": [
    {
     "name": "stdout",
     "output_type": "stream",
     "text": [
      "Input: root = [10,4,6] Output: True\n",
      "Input: root = [5,3,1] Output: False\n"
     ]
    }
   ],
   "source": [
    "# Definition for a binary tree node.\n",
    "class TreeNode:\n",
    "    def __init__(self, val=0, left=None, right=None):\n",
    "        self.val = val\n",
    "        self.left = left\n",
    "        self.right = right\n",
    "\n",
    "class Solution:\n",
    "    def checkTree(self, root):\n",
    "        return root.left + root.right == root.val\n",
    "\n",
    "# personal evaluation\n",
    "s = Solution()\n",
    "print(f\"Input: root = [10,4,6] Output: {s.checkTree(TreeNode(10,4,6))}\")\n",
    "print(f\"Input: root = [5,3,1] Output: {s.checkTree(TreeNode(5,3,1))}\")\n",
    "\n",
    "## runtime 37 ms\n",
    "## memory 13.8 mb"
   ]
  },
  {
   "cell_type": "code",
   "execution_count": 5,
   "metadata": {},
   "outputs": [
    {
     "data": {
      "text/plain": [
       "4"
      ]
     },
     "execution_count": 5,
     "metadata": {},
     "output_type": "execute_result"
    }
   ],
   "source": [
    "\n",
    "# Definition for a binary tree node.\n",
    "class TreeNode:\n",
    "    def __init__(self, val=0, left=None, right=None):\n",
    "        self.val = val\n",
    "        self.left = left\n",
    "        self.right = right\n",
    "\n",
    "class Solution:\n",
    "    def checkTree(self, root):\n",
    "        if root.right + root.left == root.val:\n",
    "            return True\n",
    "        else:\n",
    "            return False\n",
    "\n",
    "# personal evaluation\n",
    "s = Solution()\n",
    "print(f\"Input: root = [10,4,6] Output: {s.checkTree(TreeNode(10,4,6))}\")\n",
    "print(f\"Input: root = [5,3,1] Output: {s.checkTree(TreeNode(5,3,1))}\")\n",
    "\n",
    "## runtime 39 ms\n",
    "## memory 13.9 mb\n"
   ]
  },
  {
   "cell_type": "code",
   "execution_count": null,
   "metadata": {},
   "outputs": [],
   "source": []
  }
 ],
 "metadata": {
  "kernelspec": {
   "display_name": "Python 3.9.5 64-bit",
   "language": "python",
   "name": "python3"
  },
  "language_info": {
   "codemirror_mode": {
    "name": "ipython",
    "version": 3
   },
   "file_extension": ".py",
   "mimetype": "text/x-python",
   "name": "python",
   "nbconvert_exporter": "python",
   "pygments_lexer": "ipython3",
   "version": "3.9.5"
  },
  "orig_nbformat": 4,
  "vscode": {
   "interpreter": {
    "hash": "f9f85f796d01129d0dd105a088854619f454435301f6ffec2fea96ecbd9be4ac"
   }
  }
 },
 "nbformat": 4,
 "nbformat_minor": 2
}
