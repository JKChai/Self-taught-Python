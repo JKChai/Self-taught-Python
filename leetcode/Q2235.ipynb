{
 "cells": [
  {
   "cell_type": "markdown",
   "metadata": {},
   "source": [
    "# Add Two Integers\n",
    "\n",
    "- Type: `Problem Solving`\n",
    "- Difficulty: `EASY`\n",
    "- Status: `COMPLETED`\n",
    "- Attempts: `3`\n",
    "- Solution: `No`\n",
    "- Link: https://leetcode.com/problems/add-two-integers/\n",
    "- Tags: `Python` `Math`\n",
    "\n",
    "---\n",
    "\n",
    "Given two integers `num1` and `num2`, return the **sum** of the two integers.\n",
    " \n",
    "\n",
    "**Example 1:**\n",
    "```\n",
    "Input: num1 = 12, num2 = 5\n",
    "Output: 17\n",
    "Explanation: num1 is 12, num2 is 5, and their sum is 12 + 5 = 17, so 17 is returned.\n",
    "```\n",
    "\n",
    "**Example 2:**\n",
    "```\n",
    "Input: num1 = -10, num2 = 4\n",
    "Output: -6\n",
    "Explanation: num1 + num2 = -6, so -6 is returned.\n",
    "```\n",
    "\n",
    "**Constraints:**\n",
    "\n",
    "* $-100 <= num1, num2 <= 100$\n"
   ]
  },
  {
   "cell_type": "code",
   "execution_count": 1,
   "metadata": {},
   "outputs": [
    {
     "name": "stdout",
     "output_type": "stream",
     "text": [
      "s.sum(12,5): k=17\n",
      "s.sum(-10,4): k=-6\n"
     ]
    }
   ],
   "source": [
    "## first attempt\n",
    "class Solution:\n",
    "    def sum(self, num1: int, num2: int) -> int:\n",
    "        return num1 + num2\n",
    "\n",
    "## personal evaluation\n",
    "s = Solution()\n",
    "print(f\"s.sum(12,5): k={s.sum(12,5)}\")\n",
    "print(f\"s.sum(-10,4): k={s.sum(-10,4)}\")\n",
    "\n",
    "# Runtime 18 ms\n",
    "# Memory Usage 13.8 MB"
   ]
  },
  {
   "cell_type": "code",
   "execution_count": 2,
   "metadata": {},
   "outputs": [
    {
     "name": "stdout",
     "output_type": "stream",
     "text": [
      "s.sum(12,5): k=17\n",
      "s.sum(-10,4): k=-6\n"
     ]
    }
   ],
   "source": [
    "## second attempt\n",
    "class Solution:\n",
    "    def sum(self, num1: int, num2: int) -> int:\n",
    "        return num1.__add__(num2)\n",
    "\n",
    "## personal evaluation\n",
    "s = Solution()\n",
    "print(f\"s.sum(12,5): k={s.sum(12,5)}\")\n",
    "print(f\"s.sum(-10,4): k={s.sum(-10,4)}\")\n",
    "\n",
    "# Runtime 76 ms\n",
    "# Memory Usage 13.7 MB"
   ]
  },
  {
   "cell_type": "code",
   "execution_count": 3,
   "metadata": {},
   "outputs": [
    {
     "name": "stdout",
     "output_type": "stream",
     "text": [
      "s.sum(12,5): k=17\n",
      "s.sum(-10,4): k=-6\n"
     ]
    }
   ],
   "source": [
    "import numpy as np\n",
    "\n",
    "## third attempt\n",
    "class Solution:\n",
    "    def sum(self, num1: int, num2: int) -> int:\n",
    "        return np.sum([num1, num2])\n",
    "\n",
    "## personal evaluation\n",
    "s = Solution()\n",
    "print(f\"s.sum(12,5): k={s.sum(12,5)}\")\n",
    "print(f\"s.sum(-10,4): k={s.sum(-10,4)}\")\n",
    "\n",
    "# Runtime 261 ms\n",
    "# Memory Usage 32 MB"
   ]
  },
  {
   "cell_type": "code",
   "execution_count": null,
   "metadata": {},
   "outputs": [],
   "source": []
  }
 ],
 "metadata": {
  "kernelspec": {
   "display_name": "Python 3.9.5 64-bit",
   "language": "python",
   "name": "python3"
  },
  "language_info": {
   "codemirror_mode": {
    "name": "ipython",
    "version": 3
   },
   "file_extension": ".py",
   "mimetype": "text/x-python",
   "name": "python",
   "nbconvert_exporter": "python",
   "pygments_lexer": "ipython3",
   "version": "3.9.5"
  },
  "orig_nbformat": 4,
  "vscode": {
   "interpreter": {
    "hash": "f9f85f796d01129d0dd105a088854619f454435301f6ffec2fea96ecbd9be4ac"
   }
  }
 },
 "nbformat": 4,
 "nbformat_minor": 2
}
