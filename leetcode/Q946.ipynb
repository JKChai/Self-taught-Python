{
 "cells": [
  {
   "cell_type": "markdown",
   "metadata": {},
   "source": [
    "# Q 946. Validate Stack Sequences\n",
    "\n",
    "`MEDIUM`\n",
    "\n",
    "Given two integer arrays `pushed` and `popped` each with distinct values, return `true` if this could have been the result of a sequence of push and pop operations on an initially empty stack, or `false` otherwise.\n",
    "\n",
    "Example 1:\n",
    "```\n",
    "Input: pushed = [1,2,3,4,5], popped = [4,5,3,2,1]\n",
    "Output: true\n",
    "Explanation: We might do the following sequence:\n",
    "push(1), push(2), push(3), push(4),\n",
    "pop() -> 4,\n",
    "push(5),\n",
    "pop() -> 5, pop() -> 3, pop() -> 2, pop() -> 1\n",
    "```\n",
    "\n",
    "Example 2:\n",
    "```\n",
    "Input: pushed = [1,2,3,4,5], popped = [4,3,5,1,2]\n",
    "Output: false\n",
    "Explanation: 1 cannot be popped before 2.\n",
    "``` \n",
    "\n",
    "**Constraints:**\n",
    "\n",
    "* `1 <= pushed.length <= 1000`\n",
    "* `0 <= pushed[i] <= 1000`\n",
    "* All the elements of `pushed` are unique.\n",
    "* `popped.length == pushed.length`\n",
    "* `popped` is a permutation of `pushed`."
   ]
  },
  {
   "cell_type": "code",
   "execution_count": null,
   "metadata": {},
   "outputs": [],
   "source": [
    "class Solution:\n",
    "    def validateStackSequences(self, pushed: list[int], popped: list[int]) -> bool:\n",
    "        "
   ]
  },
  {
   "cell_type": "code",
   "execution_count": null,
   "metadata": {},
   "outputs": [],
   "source": []
  },
  {
   "cell_type": "code",
   "execution_count": null,
   "metadata": {},
   "outputs": [],
   "source": []
  },
  {
   "cell_type": "markdown",
   "metadata": {},
   "source": [
    "# Solution\n",
    "\n",
    "## Approach 1: Greedy\n",
    "\n",
    "**Intuition**\n",
    "\n",
    "We have to push the items in order, so when do we pop them?\n",
    "\n",
    "If the stack has say, `2` at the top, then if we have to pop that value next, we must do it now. That's because any subsequent push will make the top of the stack different from `2`, and we will never be able to pop again.\n",
    "\n",
    "**Algorithm**\n",
    "\n",
    "For each value, push it to the stack.\n",
    "\n",
    "Then, greedily pop values from the stack if they are the next values to pop.\n",
    "\n",
    "At the end, we check if we have popped all the values successfully.\n",
    "\n",
    "```python\n",
    "class Solution(object):\n",
    "    def validateStackSequences(self, pushed, popped):\n",
    "        j = 0\n",
    "        stack = []\n",
    "        for x in pushed:\n",
    "            stack.append(x)\n",
    "            while stack and j < len(popped) and stack[-1] == popped[j]:\n",
    "                stack.pop()\n",
    "                j += 1\n",
    "\n",
    "        return j == len(popped)\n",
    "```\n",
    "\n",
    "**Complexity Analysis**\n",
    "\n",
    "* Time Complexity: $O(N)$, where $N$ is the length of `pushed` and `popped`.\n",
    "* Space Complexity: $O(N)$."
   ]
  }
 ],
 "metadata": {
  "interpreter": {
   "hash": "f9f85f796d01129d0dd105a088854619f454435301f6ffec2fea96ecbd9be4ac"
  },
  "kernelspec": {
   "display_name": "Python 3.9.5 64-bit",
   "language": "python",
   "name": "python3"
  },
  "language_info": {
   "name": "python",
   "version": "3.9.5"
  },
  "orig_nbformat": 4
 },
 "nbformat": 4,
 "nbformat_minor": 2
}
