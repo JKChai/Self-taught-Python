{
 "cells": [
  {
   "cell_type": "markdown",
   "metadata": {},
   "source": [
    "# Running Sum of 1-D Array\n",
    "\n",
    "- Type: `Data Structure`\n",
    "- Difficulty: `EASY`\n",
    "- Status: `IN PROGRESS`\n",
    "- Attempts: `1`\n",
    "- Solution: `No`\n",
    "- Link: https://leetcode.com/problems/running-sum-of-1d-array/\n",
    "- Tags: `Python` `Array` `Prefix Sum`\n",
    "\n",
    "---\n",
    "\n",
    "Given an array `nums`. We define a running sum of an array as `runningSum[i] = sum(nums[0]…nums[i])`.\n",
    "\n",
    "Return the running sum of `nums`.\n",
    "\n",
    "**Example 1:**\n",
    "\n",
    "```\n",
    "Input: nums = [1,2,3,4]\n",
    "Output: [1,3,6,10]\n",
    "Explanation: Running sum is obtained as follows: [1, 1+2, 1+2+3, 1+2+3+4].\n",
    "```\n",
    "\n",
    "**Example 2:**\n",
    "\n",
    "```\n",
    "Input: nums = [1,1,1,1,1]\n",
    "Output: [1,2,3,4,5]\n",
    "Explanation: Running sum is obtained as follows: [1, 1+1, 1+1+1, 1+1+1+1, 1+1+1+1+1].\n",
    "```\n",
    "\n",
    "**Example 3:**\n",
    "\n",
    "```\n",
    "Input: nums = [3,1,2,10,1]\n",
    "Output: [3,4,6,16,17]\n",
    "``` \n",
    "\n",
    "**Constraints:**\n",
    "\n",
    "* $1 <= nums.length <= 1000$\n",
    "*-$10^6 <= nums[i] <= 10^6$\n"
   ]
  },
  {
   "cell_type": "code",
   "execution_count": 6,
   "metadata": {},
   "outputs": [
    {
     "name": "stdout",
     "output_type": "stream",
     "text": [
      "Input: nums = [1,2,3,4] Output: [1, 3, 6, 10]\n",
      "Input: nums = [1,1,1,1,1] Output: [1, 2, 3, 4, 5]\n",
      "Input: nums = [3,1,2,10,1] Output: [3, 4, 6, 16, 17]\n"
     ]
    }
   ],
   "source": [
    "## first attempt\n",
    "class Solution:\n",
    "    def runningSum(self, nums: list[int]) -> list[int]:\n",
    "        temp = []\n",
    "        for idx in range(len(nums)):\n",
    "            temp.append(sum(nums[:idx+1])) \n",
    "                \n",
    "        return temp\n",
    "\n",
    "# personal evaluation\n",
    "s = Solution()\n",
    "print(f\"Input: nums = [1,2,3,4] Output: {s.runningSum([1,2,3,4])}\")\n",
    "print(f\"Input: nums = [1,1,1,1,1] Output: {s.runningSum([1,1,1,1,1])}\")\n",
    "print(f\"Input: nums = [3,1,2,10,1] Output: {s.runningSum([3,1,2,10,1])}\")\n",
    "\n",
    "## runtime 80 ms\n",
    "## memory 14.2 mb"
   ]
  },
  {
   "cell_type": "code",
   "execution_count": 2,
   "metadata": {},
   "outputs": [
    {
     "name": "stdout",
     "output_type": "stream",
     "text": [
      "Input: nums = [1,2,3,4] Output: [1, 3, 6, 10]\n",
      "Input: nums = [1,1,1,1,1] Output: [1, 2, 3, 4, 5]\n",
      "Input: nums = [3,1,2,10,1] Output: [3, 4, 6, 16, 17]\n"
     ]
    }
   ],
   "source": [
    "## second attempt\n",
    "class Solution:\n",
    "    def runningSum(self, nums: list[int]) -> list[int]:\n",
    "        sum_run = 0\n",
    "        for idx, num in enumerate(nums):\n",
    "            sum_run += num\n",
    "            nums[idx] = sum_run\n",
    "        return nums\n",
    "\n",
    "# personal evaluation\n",
    "s = Solution()\n",
    "print(f\"Input: nums = [1,2,3,4] Output: {s.runningSum([1,2,3,4])}\")\n",
    "print(f\"Input: nums = [1,1,1,1,1] Output: {s.runningSum([1,1,1,1,1])}\")\n",
    "print(f\"Input: nums = [3,1,2,10,1] Output: {s.runningSum([3,1,2,10,1])}\")\n",
    "\n",
    "## runtime 58 ms\n",
    "## memory 14 mb"
   ]
  },
  {
   "cell_type": "code",
   "execution_count": 3,
   "metadata": {},
   "outputs": [
    {
     "name": "stdout",
     "output_type": "stream",
     "text": [
      "Input: nums = [1,2,3,4] Output: [1, 3, 6, 10]\n",
      "Input: nums = [1,1,1,1,1] Output: [1, 2, 3, 4, 5]\n",
      "Input: nums = [3,1,2,10,1] Output: [3, 4, 6, 16, 17]\n"
     ]
    }
   ],
   "source": [
    "## third attempt\n",
    "class Solution:\n",
    "    def runningSum(self, nums: list[int]) -> list[int]:\n",
    "        for idx, num in enumerate(nums):\n",
    "            if idx > 0:\n",
    "                nums[idx] += nums[idx-1]\n",
    "        return nums\n",
    "\n",
    "# personal evaluation\n",
    "s = Solution()\n",
    "print(f\"Input: nums = [1,2,3,4] Output: {s.runningSum([1,2,3,4])}\")\n",
    "print(f\"Input: nums = [1,1,1,1,1] Output: {s.runningSum([1,1,1,1,1])}\")\n",
    "print(f\"Input: nums = [3,1,2,10,1] Output: {s.runningSum([3,1,2,10,1])}\")\n",
    "\n",
    "## runtime 44 ms\n",
    "## memory 14 mb"
   ]
  },
  {
   "cell_type": "code",
   "execution_count": null,
   "metadata": {},
   "outputs": [],
   "source": []
  }
 ],
 "metadata": {
  "kernelspec": {
   "display_name": "Python 3.9.5 64-bit",
   "language": "python",
   "name": "python3"
  },
  "language_info": {
   "codemirror_mode": {
    "name": "ipython",
    "version": 3
   },
   "file_extension": ".py",
   "mimetype": "text/x-python",
   "name": "python",
   "nbconvert_exporter": "python",
   "pygments_lexer": "ipython3",
   "version": "3.9.5"
  },
  "orig_nbformat": 4,
  "vscode": {
   "interpreter": {
    "hash": "f9f85f796d01129d0dd105a088854619f454435301f6ffec2fea96ecbd9be4ac"
   }
  }
 },
 "nbformat": 4,
 "nbformat_minor": 2
}
