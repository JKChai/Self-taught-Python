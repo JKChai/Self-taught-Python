{
 "cells": [
  {
   "cell_type": "markdown",
   "metadata": {},
   "source": [
    "# 856. Score of Parentheses\n",
    "\n",
    "Given a balanced parentheses string s, return the score of the string.\n",
    "\n",
    "The score of a balanced parentheses string is based on the following rule:\n",
    "\n",
    "* `\"()\"` has score 1.\n",
    "* `AB` has score `A + B`, where `A` and `B` are balanced parentheses strings.\n",
    "* `(A)` has score `2 * A`, where `A` is a balanced parentheses string.\n",
    "\n",
    "Example 1:\n",
    "```\n",
    "Input: s = \"()\"\n",
    "Output: 1\n",
    "```\n",
    "\n",
    "Example 2:\n",
    "```\n",
    "Input: s = \"(())\"\n",
    "Output: 2\n",
    "```\n",
    "\n",
    "Example 3:\n",
    "```\n",
    "Input: s = \"()()\"\n",
    "Output: 2\n",
    "```\n",
    "\n",
    "**Constraints:**\n",
    "\n",
    "* `2 <= s.length <= 50`\n",
    "* `s` consists of only `'('` and `')'`.\n",
    "* `s` is a balanced parentheses string."
   ]
  },
  {
   "cell_type": "code",
   "execution_count": 1,
   "metadata": {},
   "outputs": [],
   "source": [
    "## body of code\n",
    "class Solution:\n",
    "    def scoreOfParentheses(self, s: str) -> int:\n",
    "        stack = []\n",
    "        cur = 0\n",
    "        for c in s:\n",
    "            if c == '(':\n",
    "                stack.append(cur)\n",
    "                cur = 0\n",
    "            else:\n",
    "                cur = stack.pop() + max(1, cur*2)\n",
    "        return cur "
   ]
  },
  {
   "cell_type": "code",
   "execution_count": 8,
   "metadata": {},
   "outputs": [
    {
     "name": "stdout",
     "output_type": "stream",
     "text": [
      "1\n",
      "2\n",
      "2\n",
      "16\n"
     ]
    }
   ],
   "source": [
    "## initialize class\n",
    "s = Solution()\n",
    "print(s.scoreOfParentheses(\"()\"))\n",
    "print(s.scoreOfParentheses(\"(())\"))\n",
    "print(s.scoreOfParentheses(\"()()\"))\n",
    "print(s.scoreOfParentheses(\"((((()))))\"))\n"
   ]
  },
  {
   "cell_type": "markdown",
   "metadata": {},
   "source": [
    "The solution provided is not the best as it has a time complexity of `O(N)`, where `N` is the length of `s`, and space complexity of `O(N)`, the size of the stack. A better approach is to reduce the space compexity to `O(1)` by using the so called count cores approach from the leetcode solution.\n",
    "\n",
    "Intuition\n",
    "\n",
    "The final sum will be a sum of powers of 2, as every core (a substring `()`, with score 1) will have it's score multiplied by 2 for each exterior set of parentheses that contains that core.\n",
    "\n",
    "Algorithm\n",
    "\n",
    "Keep track of the balance of the string, as defined in Approach #1. For every `)` that immediately follows a `(`, the answer is `1 << balance`, as `balance` is the number of exterior set of parentheses that contains this core.\n",
    "\n",
    "```python\n",
    "class Solution(object):\n",
    "    def scoreOfParentheses(self, S):\n",
    "        ans = bal = 0\n",
    "        for i, x in enumerate(S):\n",
    "            if x == '(':\n",
    "                bal += 1\n",
    "            else:\n",
    "                bal -= 1\n",
    "                if S[i-1] == '(':\n",
    "                    ans += 1 << bal\n",
    "        return ans\n",
    "```\n",
    "\n",
    "`<<` is the [shift operators](https://wiki.python.org/moin/BitwiseOperators) that moves the bit to the left. For example, `4 << 2` moves the bit from `00000100` to `00010000` making `4` to `16`; thus, can think of it as mathematically $x \\times 2^y$ when `x << y`. "
   ]
  }
 ],
 "metadata": {
  "interpreter": {
   "hash": "f9f85f796d01129d0dd105a088854619f454435301f6ffec2fea96ecbd9be4ac"
  },
  "kernelspec": {
   "display_name": "Python 3.9.5 64-bit",
   "language": "python",
   "name": "python3"
  },
  "language_info": {
   "codemirror_mode": {
    "name": "ipython",
    "version": 3
   },
   "file_extension": ".py",
   "mimetype": "text/x-python",
   "name": "python",
   "nbconvert_exporter": "python",
   "pygments_lexer": "ipython3",
   "version": "3.9.5"
  },
  "orig_nbformat": 4
 },
 "nbformat": 4,
 "nbformat_minor": 2
}
